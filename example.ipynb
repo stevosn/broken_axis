{
 "cells": [
  {
   "cell_type": "code",
   "execution_count": null,
   "metadata": {
    "collapsed": true
   },
   "outputs": [],
   "source": [
    "import matplotlib\n",
    "matplotlib.use('nbAgg')\n",
    "\n",
    "import matplotlib.pyplot as plt\n",
    "plt.ion()"
   ]
  },
  {
   "cell_type": "code",
   "execution_count": null,
   "metadata": {
    "collapsed": true
   },
   "outputs": [],
   "source": [
    "# data\n",
    "from scipy import arange, randn, sin, pi\n",
    "\n",
    "t = arange(0, 1000, 0.1)\n",
    "x = sin(2*pi*0.010*t) + 1e-1 * randn(len(t))"
   ]
  },
  {
   "cell_type": "code",
   "execution_count": null,
   "metadata": {},
   "outputs": [],
   "source": [
    "# plot orignal data\n",
    "fig = plt.figure()\n",
    "ax = fig.add_subplot(111)\n",
    "\n",
    "ax.plot(t, x)\n",
    "ax.set_xlabel('Time (s)')\n",
    "ax.set_ylabel('Signal (V)');"
   ]
  },
  {
   "cell_type": "code",
   "execution_count": null,
   "metadata": {},
   "outputs": [],
   "source": [
    "## breaks along y axis\n",
    "from broken_axis import broken_axis\n",
    "\n",
    "fig.clf()\n",
    "fig, axs = broken_axis(t,  # x-data\n",
    "                       x,  # y-data\n",
    "                       [-1.0, 0.0],  # make braeks at these points\n",
    "                       dbreaks=[0.25, 0.1],  # distances to leave out\n",
    "                       along_x=False,  # to make breaks along the y-axis\n",
    "                       figure=fig,\n",
    "                       plt_kws=dict(marker='.'),  # plt kws to be forwarded to the plot function\n",
    "                       )"
   ]
  },
  {
   "cell_type": "code",
   "execution_count": null,
   "metadata": {
    "collapsed": true
   },
   "outputs": [],
   "source": [
    "## breaks along x axis\n",
    "from broken_axis import broken_axis\n",
    "\n",
    "fig.clf()\n",
    "fig, axs = broken_axis(t,  # x-data\n",
    "                       x,  # y-data\n",
    "                       [100, 600],  # make braeks at these points\n",
    "                       dbreaks=[50, 200],  # distances to leave out\n",
    "                       along_x=True,  # to make breaks along the y-axis\n",
    "                       figure=fig,\n",
    "                       plt_kws=dict(marker='.'),  # plt kws to be forwarded to the plot function\n",
    "                       )"
   ]
  },
  {
   "cell_type": "code",
   "execution_count": null,
   "metadata": {
    "collapsed": true
   },
   "outputs": [],
   "source": []
  }
 ],
 "metadata": {
  "kernelspec": {
   "display_name": "Python 3",
   "language": "python",
   "name": "python3"
  },
  "language_info": {
   "codemirror_mode": {
    "name": "ipython",
    "version": 3
   },
   "file_extension": ".py",
   "mimetype": "text/x-python",
   "name": "python",
   "nbconvert_exporter": "python",
   "pygments_lexer": "ipython3",
   "version": "3.5.3"
  }
 },
 "nbformat": 4,
 "nbformat_minor": 2
}
